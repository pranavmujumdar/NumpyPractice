{
 "cells": [
  {
   "cell_type": "markdown",
   "metadata": {},
   "source": [
    "# Function\n",
    "* quickly exec repeated operations\n",
    "* Flexible\n",
    "\n",
    "**Computations using vectorization is always efficient!**\n",
    "* Two types \n",
    "### Unary \n",
    "### Binary\n",
    "\n",
    "np.add, np.subtract, np.negative and so on \n",
    "[This link](https://docs.scipy.org/doc/numpy/reference/routines.math.html)"
   ]
  },
  {
   "cell_type": "code",
   "execution_count": 1,
   "metadata": {},
   "outputs": [],
   "source": [
    "import numpy as np"
   ]
  },
  {
   "cell_type": "code",
   "execution_count": 2,
   "metadata": {},
   "outputs": [
    {
     "name": "stdout",
     "output_type": "stream",
     "text": [
      "X        : [0 1 2 3 4 5]\n",
      "X + 1       : [1 2 3 4 5 6]\n",
      "X - 2      : [-2 -1  0  1  2  3]\n",
      "X / 2       : [0.  0.5 1.  1.5 2.  2.5]\n",
      "X * 2       : [ 0  2  4  6  8 10]\n"
     ]
    }
   ],
   "source": [
    "x = np.arange(6)\n",
    "print(\"X        :\", x);\n",
    "print(\"X + 1       :\", x+1);\n",
    "print(\"X - 2      :\", x-2);\n",
    "print(\"X / 2       :\", x/2);\n",
    "print(\"X * 2       :\", x*2);"
   ]
  },
  {
   "cell_type": "code",
   "execution_count": 3,
   "metadata": {},
   "outputs": [
    {
     "name": "stdout",
     "output_type": "stream",
     "text": [
      "-x   : [ 0 -1 -2 -3 -4 -5]\n",
      "x ** 2  : [ 0  1  4  9 16 25]\n",
      "x % 2  : [0 1 0 1 0 1]\n"
     ]
    }
   ],
   "source": [
    "print(\"-x   :\", -x)\n",
    "print(\"x ** 2  :\", x ** 2)\n",
    "print(\"x % 2  :\", x % 2)"
   ]
  },
  {
   "cell_type": "code",
   "execution_count": 4,
   "metadata": {},
   "outputs": [
    {
     "data": {
      "text/plain": [
       "array([-1.  , -0.49, -0.16, -0.01, -0.04, -0.25])"
      ]
     },
     "execution_count": 4,
     "metadata": {},
     "output_type": "execute_result"
    }
   ],
   "source": [
    "-(0.3*x - 1) ** 2"
   ]
  },
  {
   "cell_type": "code",
   "execution_count": 5,
   "metadata": {},
   "outputs": [
    {
     "data": {
      "text/plain": [
       "array([2, 3, 4, 5, 6, 7])"
      ]
     },
     "execution_count": 5,
     "metadata": {},
     "output_type": "execute_result"
    }
   ],
   "source": [
    "np.add(x, 2)"
   ]
  },
  {
   "cell_type": "code",
   "execution_count": 8,
   "metadata": {},
   "outputs": [
    {
     "data": {
      "text/plain": [
       "array([2, 1, 2, 4])"
      ]
     },
     "execution_count": 8,
     "metadata": {},
     "output_type": "execute_result"
    }
   ],
   "source": [
    "x = np.array([2,1,-2,-4])\n",
    "np.absolute(x) # np.abs also wokrs"
   ]
  },
  {
   "cell_type": "code",
   "execution_count": 12,
   "metadata": {},
   "outputs": [
    {
     "name": "stdout",
     "output_type": "stream",
     "text": [
      "[0.         1.57079633 3.14159265]\n",
      "[0.0000000e+00 1.0000000e+00 1.2246468e-16]\n",
      "[ 1.000000e+00  6.123234e-17 -1.000000e+00]\n",
      "[ 0.00000000e+00  1.63312394e+16 -1.22464680e-16]\n"
     ]
    }
   ],
   "source": [
    "theta = np.linspace(0,np.pi,3)\n",
    "print(theta)\n",
    "print(np.sin(theta))\n",
    "print(np.cos(theta))\n",
    "print(np.tan(theta))"
   ]
  },
  {
   "cell_type": "code",
   "execution_count": 14,
   "metadata": {},
   "outputs": [
    {
     "name": "stdout",
     "output_type": "stream",
     "text": [
      "[ 0. nan nan]\n",
      "[1.57079633        nan        nan]\n",
      "[0.         1.00388482 1.26262726]\n"
     ]
    },
    {
     "name": "stderr",
     "output_type": "stream",
     "text": [
      "/home/pranav/anaconda3/lib/python3.7/site-packages/ipykernel_launcher.py:3: RuntimeWarning: invalid value encountered in arcsin\n",
      "  This is separate from the ipykernel package so we can avoid doing imports until\n",
      "/home/pranav/anaconda3/lib/python3.7/site-packages/ipykernel_launcher.py:4: RuntimeWarning: invalid value encountered in arccos\n",
      "  after removing the cwd from sys.path.\n"
     ]
    }
   ],
   "source": [
    "# inverse trig\n",
    "x = [-1,0,1]\n",
    "print(np.arcsin(theta))\n",
    "print(np.arccos(theta))\n",
    "print(np.arctan(theta))"
   ]
  },
  {
   "cell_type": "code",
   "execution_count": 16,
   "metadata": {},
   "outputs": [
    {
     "name": "stdout",
     "output_type": "stream",
     "text": [
      "[ 2.71828183  7.3890561  54.59815003]\n",
      "[ 2.  4. 16.]\n",
      "[ 3  9 81]\n"
     ]
    }
   ],
   "source": [
    "# Exponents\n",
    "x = [1,2,4]\n",
    "print(np.exp(x)) # to base e\n",
    "print(np.exp2(x)) # base 2\n",
    "print(np.power(3, x)) # base 3 "
   ]
  },
  {
   "cell_type": "code",
   "execution_count": 18,
   "metadata": {},
   "outputs": [
    {
     "name": "stdout",
     "output_type": "stream",
     "text": [
      "[0.         0.69314718 1.09861229 1.38629436 2.30258509]\n",
      "[0.         1.         1.5849625  2.         3.32192809]\n",
      "[0.         0.30103    0.47712125 0.60205999 1.        ]\n"
     ]
    }
   ],
   "source": [
    "# logarithms natural, to base-2 and to base-10\n",
    "x= [1,2,3,4,10]\n",
    "print(np.log(x))\n",
    "print(np.log2(x))\n",
    "print(np.log10(x))"
   ]
  }
 ],
 "metadata": {
  "kernelspec": {
   "display_name": "Python 3",
   "language": "python",
   "name": "python3"
  },
  "language_info": {
   "codemirror_mode": {
    "name": "ipython",
    "version": 3
   },
   "file_extension": ".py",
   "mimetype": "text/x-python",
   "name": "python",
   "nbconvert_exporter": "python",
   "pygments_lexer": "ipython3",
   "version": "3.7.4"
  }
 },
 "nbformat": 4,
 "nbformat_minor": 4
}
